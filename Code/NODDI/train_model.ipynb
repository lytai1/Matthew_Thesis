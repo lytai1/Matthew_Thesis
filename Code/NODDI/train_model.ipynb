{
 "cells": [
  {
   "cell_type": "code",
   "execution_count": 1,
   "metadata": {},
   "outputs": [],
   "source": [
    "import diffusion_imaging\n",
    "from diffusion_imaging.models import NODDIModel, BallStickModel\n",
    "from diffusion_imaging.handlers.containers import MRI, Patient, build_mri\n",
    "from diffusion_imaging.handlers.handlers import make_handler\n",
    "from dipy.core.gradients import gradient_table\n",
    "from dipy.segment.mask import median_otsu\n",
    "import argparse\n",
    "import logging\n",
    "import numpy as np\n",
    "import dipy\n",
    "import os\n",
    "import warnings\n",
    "import dill\n",
    "import nibabel as nib"
   ]
  },
  {
   "cell_type": "code",
   "execution_count": 2,
   "metadata": {},
   "outputs": [],
   "source": [
    "from abc import ABC, abstractmethod"
   ]
  },
  {
   "cell_type": "code",
   "execution_count": 3,
   "metadata": {},
   "outputs": [],
   "source": [
    "class HandlerBase(ABC):\n",
    "    \"\"\"\n",
    "    Base class for the Handler functions for the loading of data\n",
    "    \"\"\"\n",
    "    \n",
    "    @abstractmethod\n",
    "    def load(self):\n",
    "        pass"
   ]
  },
  {
   "cell_type": "code",
   "execution_count": 4,
   "metadata": {},
   "outputs": [],
   "source": [
    "class LocalHandler(HandlerBase):\n",
    "    \n",
    "    def __init__(self, patient_directory, label):\n",
    "        self.patient_directory = patient_directory\n",
    "        self.label = label\n",
    "        \n",
    "    def _filter(self, file, filters):\n",
    "        \n",
    "        for filt in filters:\n",
    "            if filt in file:\n",
    "                return True\n",
    "            \n",
    "        return False\n",
    "        \n",
    "    def _get_files(self, path, filters=[]):\n",
    "        \n",
    "        grouped_file_paths = []\n",
    "        files = os.listdir(self.patient_directory)\n",
    "        \n",
    "        filtered = []\n",
    "        for file in files:\n",
    "            if len(filters):\n",
    "                if not self._filter(file, filters):\n",
    "                    filtered.append(os.path.join(self.patient_directory, file))\n",
    "            else:\n",
    "                filtered.append(os.path.join(self.patient_directory, file))\n",
    "        \n",
    "        return filtered\n",
    "    \n",
    "    def _load_dwi(self, file):\n",
    "        image = nib.load(file)\n",
    "        return image\n",
    "    \n",
    "    def _make_mri(self, filtered_files):\n",
    "\n",
    "        # The group is the group associated with the specific 'dir*'\n",
    "        # this includes both LR and RL orientations\n",
    "        for file in filtered_files:\n",
    "            if \"bvec\" in os.path.basename(file):\n",
    "                bvecs_file_path = file\n",
    "            elif \"bval\" in os.path.basename(file):\n",
    "                bvals_file_path = file\n",
    "            elif os.path.basename(file).endswith('.nii.gz'):\n",
    "                dwi_data = self._load_dwi(file)\n",
    "                image = dwi_data.get_data()\n",
    "                aff = dwi_data.affine\n",
    "        \n",
    "        # Take the \n",
    "        gtab = gradient_table(bvals_file_path, bvecs_file_path)\n",
    "        \n",
    "        nifti_image = nib.Nifti1Image(image, aff)\n",
    "        \n",
    "        mri = build_mri(nifti_image, gtab, self.label)\n",
    "        \n",
    "        return mri\n",
    "    \n",
    "    def _make_patient(self, directory):\n",
    "        \n",
    "        patient = Patient()\n",
    "        filtered_files = self._get_files(self.patient_directory)\n",
    "        patient.directory = self.patient_directory\n",
    "        patient.mri = self._make_mri(filtered_files)\n",
    "        \n",
    "        return patient\n",
    "    \n",
    "    def load(self):\n",
    "        \n",
    "        return self._make_patient(self.patient_directory)"
   ]
  },
  {
   "cell_type": "code",
   "execution_count": 2,
   "metadata": {},
   "outputs": [
    {
     "name": "stdout",
     "output_type": "stream",
     "text": [
      "['D:\\\\Users\\\\boywi\\\\Documents\\\\THESIS_DATA\\\\021_S_2077\\\\021_S_2077.bval', 'D:\\\\Users\\\\boywi\\\\Documents\\\\THESIS_DATA\\\\021_S_2077\\\\021_S_2077.bvec', 'D:\\\\Users\\\\boywi\\\\Documents\\\\THESIS_DATA\\\\021_S_2077\\\\021_S_2077.nii.gz', 'D:\\\\Users\\\\boywi\\\\Documents\\\\THESIS_DATA\\\\021_S_2077\\\\021_S_2077.pkl']\n"
     ]
    },
    {
     "name": "stderr",
     "output_type": "stream",
     "text": [
      "C:\\Users\\boywi\\Miniconda3\\envs\\dmipy\\lib\\site-packages\\dmipy-0.1.dev0-py3.7.egg\\dmipy\\core\\acquisition_scheme.py:871: UserWarning: pulse_separation (big_delta) or pulse_duration (small_delta) are not defined in the Dipy gtab. This means the resulting DmipyAcquisitionScheme cannot be used with CompartmentModels that need these.\n"
     ]
    }
   ],
   "source": [
    "path = \"D:\\\\Users\\\\boywi\\\\Documents\\\\THESIS_DATA\\\\HCP\\\\Diffusion\\\\100307\\\\T1w\\\\Diffusion\"\n",
    "path = \"D:\\\\Users\\\\boywi\\\\Documents\\\\THESIS_DATA\\\\021_S_2077\"\n",
    "lh = make_handler(path, 'hcp')\n",
    "patient = lh.load()"
   ]
  },
  {
   "cell_type": "code",
   "execution_count": null,
   "metadata": {},
   "outputs": [],
   "source": []
  },
  {
   "cell_type": "code",
   "execution_count": 4,
   "metadata": {},
   "outputs": [],
   "source": [
    "from dipy.segment.mask import bounding_box\n",
    "import matplotlib.pyplot as plt"
   ]
  },
  {
   "cell_type": "code",
   "execution_count": 12,
   "metadata": {},
   "outputs": [],
   "source": [
    "min_indicies, max_indicies = bounding_box(patient.mri.data)\n",
    "min_x, min_y, min_z, min_t = min_indicies\n",
    "max_x, max_y, max_z, max_t = max_indicies"
   ]
  },
  {
   "cell_type": "code",
   "execution_count": 4,
   "metadata": {},
   "outputs": [
    {
     "data": {
      "text/plain": [
       "(256, 256, 59, 46)"
      ]
     },
     "execution_count": 4,
     "metadata": {},
     "output_type": "execute_result"
    }
   ],
   "source": [
    "patient.mri.data.shape"
   ]
  },
  {
   "cell_type": "code",
   "execution_count": 5,
   "metadata": {},
   "outputs": [],
   "source": [
    "min_indicies, max_indicies = bounding_box(patient.mri.mask)\n",
    "min_x, min_y, min_z= min_indicies\n",
    "max_x, max_y, max_z = max_indicies"
   ]
  },
  {
   "cell_type": "code",
   "execution_count": 36,
   "metadata": {},
   "outputs": [
    {
     "data": {
      "text/plain": [
       "(104, 128, 59)"
      ]
     },
     "execution_count": 36,
     "metadata": {},
     "output_type": "execute_result"
    }
   ],
   "source": [
    "patient.mri.mask[min_x:max_x, min_y:max_y].shape"
   ]
  },
  {
   "cell_type": "code",
   "execution_count": 41,
   "metadata": {},
   "outputs": [],
   "source": [
    "masked, mask = median_otsu(patient.mri.mask)"
   ]
  },
  {
   "cell_type": "code",
   "execution_count": 6,
   "metadata": {},
   "outputs": [
    {
     "data": {
      "text/plain": [
       "<matplotlib.image.AxesImage at 0x1c5c991c188>"
      ]
     },
     "execution_count": 6,
     "metadata": {},
     "output_type": "execute_result"
    },
    {
     "data": {
      "image/png": "[encoded data removed]",
      "text/plain": [
       "<Figure size 432x288 with 1 Axes>"
      ]
     },
     "metadata": {
      "needs_background": "light"
     },
     "output_type": "display_data"
    }
   ],
   "source": [
    "plt.imshow(patient.mri.data[min_x:max_x, min_y:max_y, 50, 0])"
   ]
  },
  {
   "cell_type": "code",
   "execution_count": 7,
   "metadata": {},
   "outputs": [
    {
     "data": {
      "text/plain": [
       "<matplotlib.image.AxesImage at 0x1c5c99c2fc8>"
      ]
     },
     "execution_count": 7,
     "metadata": {},
     "output_type": "execute_result"
    },
    {
     "data": {
      "image/png": "[encoded data removed]",
      "text/plain": [
       "<Figure size 432x288 with 1 Axes>"
      ]
     },
     "metadata": {
      "needs_background": "light"
     },
     "output_type": "display_data"
    }
   ],
   "source": [
    "plt.imshow(patient.mri.mask[..., 50])"
   ]
  },
  {
   "cell_type": "code",
   "execution_count": 7,
   "metadata": {},
   "outputs": [],
   "source": [
    "class HPCHandler(LocalHandler):\n",
    "    \n",
    "    def __init__(self, patient_directory, label):\n",
    "        LocalHandler.__init__(patient_directory, label)\n",
    "    \n",
    "    def load(self, index_range, middle_slice=False):\n",
    "        \n",
    "        patient = Patient()\n",
    "        filtered_files = self._get_files(self.patient_directory)\n",
    "        patient.directory = self.patient_directory\n",
    "        patient.mri = self._make_mri(filtered_files)\n",
    "        if len(index_range) == 2:\n",
    "            patient.mri.data = data[:, :, index_range[0] : index_range[1], :]\n",
    "        else:\n",
    "            raise IndexError(\"index_range must be a list of two values indicating the start and exclusive end of a range\")\n",
    "        \n",
    "        "
   ]
  },
  {
   "cell_type": "code",
   "execution_count": 8,
   "metadata": {},
   "outputs": [],
   "source": [
    "class HCPLocalHandler(HandlerBase):\n",
    "    \"\"\"\n",
    "    Class to hanlde the loading of the specific patient files from the Human Connectome Project\n",
    "    \"\"\"\n",
    "    \n",
    "    def __init__(self, config):\n",
    "        self.config = config\n",
    "        self.patient_directory = config['patient_directory']\n",
    "        self.sub_directory = os.path.join(\"T1w\", \"Diffusion\")\n",
    "        self.label = \"hcp\"\n",
    "        \n",
    "    def _get_files(self, path):\n",
    "        \n",
    "        grouped_file_paths = []\n",
    "        base = os.path.join(self.patient_directory, path, self.sub_directory)\n",
    "        files = os.listdir(base)\n",
    "        \n",
    "        filtered = []\n",
    "        for file in files:\n",
    "            if not \"eddylogs\" in file and not \"nodif_brain_mask\" in file and not \"grad_dev\" in file:\n",
    "                filtered.append(os.path.join(base, file))\n",
    "        \n",
    "        return filtered\n",
    "        \n",
    "    def _load_dwi(self, file):\n",
    "        image = nib.load(file)\n",
    "        return image\n",
    "    \n",
    "    def _load_bvec(self, file):\n",
    "        return np.loadtxt(file)\n",
    "    \n",
    "    def _load_bval(self, file):\n",
    "        return np.loadtxt(file)\n",
    "    \n",
    "    def _make_mri(self, filtered_files):\n",
    "\n",
    "        # The group is the group associated with the specific 'dir*'\n",
    "        # this includes both LR and RL orientations\n",
    "        print(filtered_files) \n",
    "        for file in filtered_files:\n",
    "            if \"bvec\" in os.path.basename(file):\n",
    "                bvecs_file_path = file\n",
    "            elif \"bval\" in os.path.basename(file):\n",
    "                bvals_file_path = file\n",
    "            elif os.path.basename(file).endswith('.nii.gz'):\n",
    "                dwi_data = self._load_dwi(file)\n",
    "                image = dwi_data.get_data()\n",
    "                aff = dwi_data.affine\n",
    "        \n",
    "        # Take the \n",
    "        gtab = gradient_table(bvals_file_path, bvecs_file_path)\n",
    "        \n",
    "        nifti_image = nib.Nifti1Image(image, aff)\n",
    "        \n",
    "        mri = MRI(nifti_image, gtab, self.label)\n",
    "        \n",
    "        return mri\n",
    "        \n",
    "    def load(self):\n",
    "        \n",
    "        patients = []\n",
    "        for patient in os.listdir(self.patient_directory):\n",
    "            p = Patient(patient_number=patient)\n",
    "            \n",
    "            filtered_files = self._get_files(os.path.join(self.patient_directory,\n",
    "                                                         patient))\n",
    "            p.directory = os.path.join(self.patient_directory, patient) \n",
    "            p.mri = self._make_mri(filtered_files)\n",
    "            patients.append(p)\n",
    "            \n",
    "        return patients\n",
    "        \n",
    "\n",
    "class DMIPYLocalHandler(HCPLocalHandler):\n",
    "    def __init__(self, config):\n",
    "        self.config = config\n",
    "        self.patient_directory = config['patient_directory']\n",
    "        self.label = \"andi\"\n",
    "\n",
    "    def _get_files(self, path=None):\n",
    "\n",
    "        base = os.path.join(self.patient_directory, path)\n",
    "        files = os.listdir(base)\n",
    "        files_full_dir = []\n",
    "\n",
    "        for file in files:\n",
    "            files_full_dir.append(os.path.join(self.patient_directory, path, file))\n",
    "\n",
    "        return files_full_dir\n",
    "\n",
    "\n",
    "class LocalHandler(HandlerBase):\n",
    "    \"\"\"\n",
    "    Class to handle the loading of local files\n",
    "    \"\"\"\n",
    "    \n",
    "    def __init__(self, config):\n",
    "        self.config = config\n",
    "        self.dwi = None\n",
    "        self.bvec = None\n",
    "        self.bval = None\n",
    "        self.aff = []\n",
    "    \n",
    "    def _get_files(self, path, end_extention):\n",
    "        \n",
    "        out_data = []\n",
    "        \n",
    "        for file in os.listdir(path):\n",
    "            if file.endswith(end_extention) and \\\n",
    "                (not \"SBRef\" in file and \\\n",
    "                 not \"BIAS\" in file):\n",
    "                out_data.append(os.path.join(path, file))\n",
    "        \n",
    "        return out_data\n",
    "    \n",
    "    \n",
    "    def _load_dwi(self, files):\n",
    "        \n",
    "        data = []\n",
    "        aff = []\n",
    "        \n",
    "        for file in files:\n",
    "            loaded = nib.load(file)\n",
    "            data.append(loaded.get_data())\n",
    "            \n",
    "        aff = loaded.affine\n",
    "        \n",
    "        return (data, aff)\n",
    "    \n",
    "    \n",
    "    def _load_bvec(self, files):\n",
    "        \n",
    "        data = []\n",
    "        for file in files:\n",
    "            data.append(np.loadtxt(file))\n",
    "        \n",
    "        return data\n",
    "    \n",
    "    \n",
    "    def _load_bval(self, files):\n",
    "        \n",
    "        data = []\n",
    "        for file in files:\n",
    "            data.extend(np.loadtxt(file))\n",
    "        \n",
    "        return data\n",
    "    \n",
    "    \n",
    "    def _get_data(self, path, end_extention):\n",
    "        \n",
    "        switch = {\n",
    "            \".nii.gz\": self._load_dwi,\n",
    "            \".bvec\": self._load_bvec,\n",
    "            \".bval\": self._load_bval\n",
    "        }\n",
    "        \n",
    "        paths = self._get_files(path, end_extention)\n",
    "        data = switch[end_extention](paths)\n",
    "        \n",
    "        return data\n",
    "        \n",
    "    \n",
    "    def load(self):\n",
    "        \n",
    "        dwi_path = self.config['dwi_path']\n",
    "        bvec_path = self.config['bvec_path']\n",
    "        bval_path = self.config['bval_path']\n",
    "        \n",
    "        dwi, af = self._get_data(dwi_path, \".nii.gz\")\n",
    "        bvec = self._get_data(bvec_path, \".bvec\")\n",
    "        bval = self._get_data(bval_path, \".bval\")\n",
    "        \n",
    "        out = [nib.Nifti1Image(np.concatenate(dwi, -1), af),\n",
    "               gradient_table(bval, np.concatenate(bvec, -1))]\n",
    "        \n",
    "        return out"
   ]
  }
 ],
 "metadata": {
  "kernelspec": {
   "display_name": "Python 3",
   "language": "python",
   "name": "python3"
  },
  "language_info": {
   "codemirror_mode": {
    "name": "ipython",
    "version": 3
   },
   "file_extension": ".py",
   "mimetype": "text/x-python",
   "name": "python",
   "nbconvert_exporter": "python",
   "pygments_lexer": "ipython3",
   "version": "3.7.4"
  }
 },
 "nbformat": 4,
 "nbformat_minor": 2
}
