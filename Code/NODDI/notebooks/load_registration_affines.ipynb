{
 "cells": [
  {
   "cell_type": "code",
   "execution_count": 24,
   "metadata": {},
   "outputs": [],
   "source": [
    "\n",
    "\n",
    "def _split_lines(matrix):\n",
    "    \n",
    "    out = []\n",
    "    for line in matrix:\n",
    "        out.append([val.rstrip() for val in line.split()])\n",
    "        \n",
    "    return out\n",
    "\n",
    "def _converter(val, resulting_type):\n",
    "    \n",
    "    return resulting_type(val)\n",
    "            \n",
    "\n",
    "def _convert_type(matrix, converter, resulting_type):\n",
    "    \n",
    "    out = []\n",
    "    for line in matrix:\n",
    "        out.append([converter(val, resulting_type) for val in line])\n",
    "        \n",
    "    return out\n",
    "    \n",
    "def _convert_affine_string(matrix, resulting_type):\n",
    "    \n",
    "    splitted_lines = _split_lines(matrix)\n",
    "    resulting_matrix = _convert_type(splitted_lines, _converter, resulting_type)\n",
    "    \n",
    "    return resulting_matrix\n",
    "\n",
    "def load_affine(path_to_file, resulting_type):\n",
    "    affine_matrix = []\n",
    "    \n",
    "    with open(path_to_file, \"r\") as f:\n",
    "        affine_matrix = f.readlines()\n",
    "        \n",
    "    resulting_matrix = _convert_affine_string(affine_matrix, resulting_type)\n",
    "            \n",
    "    return resulting_matrix\n",
    "\n",
    "import os"
   ]
  },
  {
   "cell_type": "code",
   "execution_count": null,
   "metadata": {},
   "outputs": [],
   "source": []
  },
  {
   "cell_type": "code",
   "execution_count": 25,
   "metadata": {},
   "outputs": [
    {
     "name": "stdout",
     "output_type": "stream",
     "text": [
      "1.018765812\n",
      "-0.0003443146978\n",
      "0.01891986069\n",
      "-91.88553487\n",
      "-0.00741361571\n",
      "0.9541231536\n",
      "0.3042546783\n",
      "-76.54338029\n",
      "-0.02334429383\n",
      "-0.4315023678\n",
      "1.041202129\n",
      "72.7481136\n",
      "0\n",
      "0\n",
      "0\n",
      "1\n"
     ]
    },
    {
     "data": {
      "text/plain": [
       "[[1.018765812, -0.0003443146978, 0.01891986069, -91.88553487],\n",
       " [-0.00741361571, 0.9541231536, 0.3042546783, -76.54338029],\n",
       " [-0.02334429383, -0.4315023678, 1.041202129, 72.7481136],\n",
       " [0.0, 0.0, 0.0, 1.0]]"
      ]
     },
     "execution_count": 25,
     "metadata": {},
     "output_type": "execute_result"
    }
   ],
   "source": [
    "load_affine(os.path.join(os.getcwd(), \"affines\"), float)"
   ]
  },
  {
   "cell_type": "code",
   "execution_count": null,
   "metadata": {},
   "outputs": [],
   "source": []
  }
 ],
 "metadata": {
  "kernelspec": {
   "display_name": "Python 3",
   "language": "python",
   "name": "python3"
  },
  "language_info": {
   "codemirror_mode": {
    "name": "ipython",
    "version": 3
   },
   "file_extension": ".py",
   "mimetype": "text/x-python",
   "name": "python",
   "nbconvert_exporter": "python",
   "pygments_lexer": "ipython3",
   "version": "3.7.4"
  }
 },
 "nbformat": 4,
 "nbformat_minor": 2
}
