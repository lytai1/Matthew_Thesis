{
 "cells": [
  {
   "cell_type": "markdown",
   "metadata": {},
   "source": [
    "# Imports"
   ]
  },
  {
   "cell_type": "code",
   "execution_count": 24,
   "metadata": {},
   "outputs": [
    {
     "ename": "ImportError",
     "evalue": "cannot import name 'window'",
     "output_type": "error",
     "traceback": [
      "\u001b[1;31m---------------------------------------------------------------------------\u001b[0m",
      "\u001b[1;31mImportError\u001b[0m                               Traceback (most recent call last)",
      "\u001b[1;32m<ipython-input-24-cf0f7c9b2392>\u001b[0m in \u001b[0;36m<module>\u001b[1;34m\u001b[0m\n\u001b[0;32m      8\u001b[0m \u001b[1;33m\u001b[0m\u001b[0m\n\u001b[0;32m      9\u001b[0m \u001b[1;32mfrom\u001b[0m \u001b[0mdipy\u001b[0m\u001b[1;33m.\u001b[0m\u001b[0mdata\u001b[0m \u001b[1;32mimport\u001b[0m \u001b[0mget_sphere\u001b[0m\u001b[1;33m\u001b[0m\u001b[1;33m\u001b[0m\u001b[0m\n\u001b[1;32m---> 10\u001b[1;33m \u001b[1;32mfrom\u001b[0m \u001b[0mdipy\u001b[0m\u001b[1;33m.\u001b[0m\u001b[0mviz\u001b[0m \u001b[1;32mimport\u001b[0m \u001b[0mwindow\u001b[0m\u001b[1;33m,\u001b[0m \u001b[0mactor\u001b[0m\u001b[1;33m\u001b[0m\u001b[1;33m\u001b[0m\u001b[0m\n\u001b[0m",
      "\u001b[1;31mImportError\u001b[0m: cannot import name 'window'"
     ]
    }
   ],
   "source": [
    "import numpy as np\n",
    "import nibabel as nib\n",
    "import dipy.reconst.dti as dti\n",
    "from dipy.data import fetch_stanford_hardi\n",
    "from dipy.data import read_stanford_hardi\n",
    "from dipy.segment.mask import median_otsu\n",
    "from dipy.reconst.dti import fractional_anisotropy, color_fa\n",
    "\n",
    "from dipy.data import get_sphere\n",
    "from dipy.viz import window, actor"
   ]
  },
  {
   "cell_type": "markdown",
   "metadata": {},
   "source": [
    "# Fetch Data"
   ]
  },
  {
   "cell_type": "code",
   "execution_count": 4,
   "metadata": {},
   "outputs": [
    {
     "name": "stdout",
     "output_type": "stream",
     "text": [
      "Creating new folder C:\\Users\\boywi\\.dipy\\stanford_hardi\n",
      "Downloading \"HARDI150.nii.gz\" to C:\\Users\\boywi\\.dipy\\stanford_hardi\n",
      "Download Progress: [########################################] 100.00%  of 87.15 MBDownloading \"HARDI150.bval\" to C:\\Users\\boywi\\.dipy\\stanford_hardi\n",
      "Download Progress: [########################################] 100.00%  of 0.00 MBDownloading \"HARDI150.bvec\" to C:\\Users\\boywi\\.dipy\\stanford_hardi\n",
      "Download Progress: [########################################] 100.00%  of 0.00 MBFiles successfully downloaded to C:\\Users\\boywi\\.dipy\\stanford_hardi\n"
     ]
    },
    {
     "data": {
      "text/plain": [
       "({'HARDI150.nii.gz': ('https://stacks.stanford.edu/file/druid:yx282xq2090/dwi.nii.gz',\n",
       "   '0b18513b46132b4d1051ed3364f2acbc'),\n",
       "  'HARDI150.bval': ('https://stacks.stanford.edu/file/druid:yx282xq2090/dwi.bvals',\n",
       "   '4e08ee9e2b1d2ec3fddb68c70ae23c36'),\n",
       "  'HARDI150.bvec': ('https://stacks.stanford.edu/file/druid:yx282xq2090/dwi.bvecs',\n",
       "   '4c63a586f29afc6a48a5809524a76cb4')},\n",
       " 'C:\\\\Users\\\\boywi\\\\.dipy\\\\stanford_hardi')"
      ]
     },
     "execution_count": 4,
     "metadata": {},
     "output_type": "execute_result"
    }
   ],
   "source": [
    "fetch_stanford_hardi()"
   ]
  },
  {
   "cell_type": "markdown",
   "metadata": {},
   "source": [
    "# Read Data"
   ]
  },
  {
   "cell_type": "code",
   "execution_count": 7,
   "metadata": {},
   "outputs": [
    {
     "name": "stdout",
     "output_type": "stream",
     "text": [
      "Dataset is already in place. If you want to fetch it again please first remove the folder C:\\Users\\boywi\\.dipy\\stanford_hardi \n"
     ]
    }
   ],
   "source": [
    "img, gtab = read_stanford_hardi()"
   ]
  },
  {
   "cell_type": "markdown",
   "metadata": {},
   "source": [
    "# View Data Properties"
   ]
  },
  {
   "cell_type": "code",
   "execution_count": 8,
   "metadata": {},
   "outputs": [
    {
     "name": "stdout",
     "output_type": "stream",
     "text": [
      "data.shape (81, 106, 76, 160)\n"
     ]
    }
   ],
   "source": [
    "data = img.get_data()\n",
    "print('data.shape (%d, %d, %d, %d)' % data.shape)"
   ]
  },
  {
   "cell_type": "markdown",
   "metadata": {},
   "source": [
    "# Mask Image"
   ]
  },
  {
   "cell_type": "code",
   "execution_count": 11,
   "metadata": {},
   "outputs": [
    {
     "name": "stdout",
     "output_type": "stream",
     "text": [
      "maskdata.shape (71, 87, 62, 160)\n"
     ]
    }
   ],
   "source": [
    "maskdata, mask = median_otsu(data, vol_idx=range(10, 50), median_radius=3,\n",
    "                             numpass=1, autocrop=True, dilate=2)\n",
    "print('maskdata.shape (%d, %d, %d, %d)' % maskdata.shape)"
   ]
  },
  {
   "cell_type": "markdown",
   "metadata": {},
   "source": [
    "# Instantiate TensorModel"
   ]
  },
  {
   "cell_type": "code",
   "execution_count": 12,
   "metadata": {},
   "outputs": [],
   "source": [
    "tenmodel = dti.TensorModel(gtab)"
   ]
  },
  {
   "cell_type": "markdown",
   "metadata": {},
   "source": [
    "# Fit Model"
   ]
  },
  {
   "cell_type": "code",
   "execution_count": 13,
   "metadata": {},
   "outputs": [],
   "source": [
    "tenfit = tenmodel.fit(maskdata)"
   ]
  },
  {
   "cell_type": "markdown",
   "metadata": {},
   "source": [
    "# Computing anisotropy measures (FA, MD, RGB)\n",
    "FA is defined as the normalized variance of the eigen-values of the tensor"
   ]
  },
  {
   "cell_type": "code",
   "execution_count": 15,
   "metadata": {},
   "outputs": [],
   "source": [
    "FA = fractional_anisotropy(tenfit.evals)"
   ]
  },
  {
   "cell_type": "markdown",
   "metadata": {},
   "source": [
    "# Remove nans"
   ]
  },
  {
   "cell_type": "code",
   "execution_count": 16,
   "metadata": {},
   "outputs": [],
   "source": [
    "FA[np.isnan(FA)] = 0"
   ]
  },
  {
   "cell_type": "markdown",
   "metadata": {},
   "source": [
    "# Save FA Images"
   ]
  },
  {
   "cell_type": "code",
   "execution_count": 18,
   "metadata": {},
   "outputs": [],
   "source": [
    "fa_img = nib.Nifti1Image(FA.astype(np.float32), img.affine)\n",
    "nib.save(fa_img, 'tensor_fa.nii.gz')"
   ]
  },
  {
   "cell_type": "markdown",
   "metadata": {},
   "source": [
    "# Save evecs images"
   ]
  },
  {
   "cell_type": "code",
   "execution_count": 19,
   "metadata": {},
   "outputs": [],
   "source": [
    "evecs_img = nib.Nifti1Image(tenfit.evecs.astype(np.float32), img.affine)\n",
    "nib.save(evecs_img, 'tensor_evecs.nii.gz')"
   ]
  },
  {
   "cell_type": "markdown",
   "metadata": {},
   "source": [
    "# Compute the Mea Diffusivity"
   ]
  },
  {
   "cell_type": "code",
   "execution_count": 20,
   "metadata": {},
   "outputs": [],
   "source": [
    "# method 1\n",
    "MD1 = dti.mean_diffusivity(tenfit.evals)\n",
    "nib.save(nib.Nifti1Image(MD1.astype(np.float32), img.affine), 'tensors_md.nii.gz')\n",
    "\n",
    "# method 2\n",
    "MD2 = tenfit.md"
   ]
  },
  {
   "cell_type": "markdown",
   "metadata": {},
   "source": [
    "# Compute colored FA or RGB-map\n",
    "1. Make sure the FA is scaled between 0 and 1\n",
    "2. Compute RBG map and save it"
   ]
  },
  {
   "cell_type": "code",
   "execution_count": 21,
   "metadata": {},
   "outputs": [],
   "source": [
    "FA = np.clip(FA, 0, 1)\n",
    "RBG = color_fa(FA, tenfit.evecs)\n",
    "nib.save(nib.Nifti1Image(np.array(255 * RBG, 'uint8'), img.affine), 'tensor_rgb.nii.gz')"
   ]
  },
  {
   "cell_type": "markdown",
   "metadata": {},
   "source": [
    "# Visualize the tensor ellipsoids of a small rectangular area in an axial slice of the splenium of the corpus callosum"
   ]
  },
  {
   "cell_type": "code",
   "execution_count": 22,
   "metadata": {},
   "outputs": [
    {
     "ename": "ImportError",
     "evalue": "cannot import name 'window'",
     "output_type": "error",
     "traceback": [
      "\u001b[1;31m---------------------------------------------------------------------------\u001b[0m",
      "\u001b[1;31mImportError\u001b[0m                               Traceback (most recent call last)",
      "\u001b[1;32m<ipython-input-22-0597240bdb5f>\u001b[0m in \u001b[0;36m<module>\u001b[1;34m\u001b[0m\n\u001b[0;32m      2\u001b[0m \u001b[0msphere\u001b[0m \u001b[1;33m=\u001b[0m \u001b[0mget_sphere\u001b[0m\u001b[1;33m(\u001b[0m\u001b[1;34m'repulsion724'\u001b[0m\u001b[1;33m)\u001b[0m\u001b[1;33m\u001b[0m\u001b[1;33m\u001b[0m\u001b[0m\n\u001b[0;32m      3\u001b[0m \u001b[1;33m\u001b[0m\u001b[0m\n\u001b[1;32m----> 4\u001b[1;33m \u001b[1;32mfrom\u001b[0m \u001b[0mdipy\u001b[0m\u001b[1;33m.\u001b[0m\u001b[0mviz\u001b[0m \u001b[1;32mimport\u001b[0m \u001b[0mwindow\u001b[0m\u001b[1;33m,\u001b[0m \u001b[0mactor\u001b[0m\u001b[1;33m\u001b[0m\u001b[1;33m\u001b[0m\u001b[0m\n\u001b[0m\u001b[0;32m      5\u001b[0m \u001b[1;33m\u001b[0m\u001b[0m\n\u001b[0;32m      6\u001b[0m \u001b[1;31m# Enables/disables interactive visualization\u001b[0m\u001b[1;33m\u001b[0m\u001b[1;33m\u001b[0m\u001b[1;33m\u001b[0m\u001b[0m\n",
      "\u001b[1;31mImportError\u001b[0m: cannot import name 'window'"
     ]
    }
   ],
   "source": [
    "\n",
    "sphere = get_sphere('repulsion724')\n",
    "\n",
    "# Enables/disables interactive visualization\n",
    "interactive = False\n",
    "\n",
    "ren = window.Renderer()\n",
    "\n",
    "evals = tenfit.evals[13:43, 44:74, 28:29]\n",
    "evecs = tenfit.evecs[13:43, 44:74, 28:29]"
   ]
  },
  {
   "cell_type": "code",
   "execution_count": null,
   "metadata": {},
   "outputs": [],
   "source": []
  }
 ],
 "metadata": {
  "kernelspec": {
   "display_name": "Python 3",
   "language": "python",
   "name": "python3"
  },
  "language_info": {
   "codemirror_mode": {
    "name": "ipython",
    "version": 3
   },
   "file_extension": ".py",
   "mimetype": "text/x-python",
   "name": "python",
   "nbconvert_exporter": "python",
   "pygments_lexer": "ipython3",
   "version": "3.7.7"
  }
 },
 "nbformat": 4,
 "nbformat_minor": 2
}
