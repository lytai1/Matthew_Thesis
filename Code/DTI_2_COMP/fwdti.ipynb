{
 "cells": [
  {
   "cell_type": "markdown",
   "metadata": {},
   "source": [
    "# Imports"
   ]
  },
  {
   "cell_type": "code",
   "execution_count": null,
   "metadata": {},
   "outputs": [],
   "source": [
    "!conda install matplotlib"
   ]
  },
  {
   "cell_type": "code",
   "execution_count": 1,
   "metadata": {},
   "outputs": [],
   "source": [
    "import numpy as np\n",
    "import dipy.reconst.fwdti as fwdti\n",
    "import dipy.reconst.dti as dti\n",
    "import matplotlib.pyplot as plt\n",
    "from dipy.data import fetch_cenir_multib\n",
    "from dipy.data import read_cenir_multib\n",
    "from dipy.segment.mask import median_otsu"
   ]
  },
  {
   "cell_type": "markdown",
   "metadata": {},
   "source": [
    "# Pull Data"
   ]
  },
  {
   "cell_type": "code",
   "execution_count": 4,
   "metadata": {},
   "outputs": [
    {
     "name": "stdout",
     "output_type": "stream",
     "text": [
      "Creating new folder /home/matthew/.dipy/cenir_multib\n",
      "Downloading \"4D_dwi_eddycor_B200.nii.gz\" to /home/matthew/.dipy/cenir_multib\n",
      "Download Progress: [########################################] 100.00%  of 53.31 MBDownloading \"dwi_bvals_B200\" to /home/matthew/.dipy/cenir_multib\n",
      "Download Progress: [########################################] 100.00%  of 0.00 MBDownloading \"dwi_bvecs_B200\" to /home/matthew/.dipy/cenir_multib\n",
      "Download Progress: [########################################] 100.00%  of 0.00 MBDownloading \"4D_dwieddycor_B400.nii.gz\" to /home/matthew/.dipy/cenir_multib\n",
      "Download Progress: [########################################] 100.00%  of 53.20 MBDownloading \"bvals_B400\" to /home/matthew/.dipy/cenir_multib\n",
      "Download Progress: [########################################] 100.00%  of 0.00 MBDownloading \"bvecs_B400\" to /home/matthew/.dipy/cenir_multib\n",
      "Download Progress: [########################################] 100.00%  of 0.00 MBDownloading \"4D_dwieddycor_B1000.nii.gz\" to /home/matthew/.dipy/cenir_multib\n",
      "Download Progress: [########################################] 100.00%  of 534.97 MBDownloading \"bvals_B1000\" to /home/matthew/.dipy/cenir_multib\n",
      "Download Progress: [########################################] 100.00%  of 0.00 MBDownloading \"bvecs_B1000\" to /home/matthew/.dipy/cenir_multib\n",
      "Download Progress: [########################################] 100.00%  of 0.01 MBDownloading \"4D_dwieddycor_B2000.nii.gz\" to /home/matthew/.dipy/cenir_multib\n",
      "Download Progress: [########################################] 100.00%  of 537.06 MBDownloading \"bvals_B2000\" to /home/matthew/.dipy/cenir_multib\n",
      "Download Progress: [########################################] 100.00%  of 0.00 MBDownloading \"bvecs_B2000\" to /home/matthew/.dipy/cenir_multib\n",
      "Download Progress: [########################################] 100.00%  of 0.01 MBDownloading \"4D_dwieddycor_B3000.nii.gz\" to /home/matthew/.dipy/cenir_multib\n",
      "Download Progress: [########################################] 100.00%  of 540.40 MBDownloading \"bvals_B3000\" to /home/matthew/.dipy/cenir_multib\n",
      "Download Progress: [########################################] 100.00%  of 0.00 MBDownloading \"bvecs_B3000\" to /home/matthew/.dipy/cenir_multib\n",
      "Download Progress: [########################################] 100.00%  of 0.01 MBFiles successfully downloaded to /home/matthew/.dipy/cenir_multib\n"
     ]
    },
    {
     "data": {
      "text/plain": [
       "({'4D_dwi_eddycor_B200.nii.gz': ('https://digital.lib.washington.edu/researchworks/bitstream/handle/1773/33311/4D_dwi_eddycor_B200.nii.gz',\n",
       "   'fd704aa3deb83c1c7229202cb3db8c48'),\n",
       "  'dwi_bvals_B200': ('https://digital.lib.washington.edu/researchworks/bitstream/handle/1773/33311/dwi_bvals_B200',\n",
       "   '80ae5df76a575fe5bf9f1164bb0d4cfb'),\n",
       "  'dwi_bvecs_B200': ('https://digital.lib.washington.edu/researchworks/bitstream/handle/1773/33311/dwi_bvecs_B200',\n",
       "   '18e90f8a3e6a4db2457e5b1ba1cc98a9'),\n",
       "  '4D_dwieddycor_B400.nii.gz': ('https://digital.lib.washington.edu/researchworks/bitstream/handle/1773/33311/4D_dwieddycor_B400.nii.gz',\n",
       "   '3d0f2b8ef7b6a4a3aa5c4f7a90c9cfec'),\n",
       "  'bvals_B400': ('https://digital.lib.washington.edu/researchworks/bitstream/handle/1773/33311/bvals_B400',\n",
       "   'c38056c40c9cc42372232d6e75c47f54'),\n",
       "  'bvecs_B400': ('https://digital.lib.washington.edu/researchworks/bitstream/handle/1773/33311/bvecs_B400',\n",
       "   '810d79b4c30cb7dff3b2000017d5f72a'),\n",
       "  '4D_dwieddycor_B1000.nii.gz': ('https://digital.lib.washington.edu/researchworks/bitstream/handle/1773/33311/4D_dwieddycor_B1000.nii.gz',\n",
       "   'dde8037601a14436b2173f4345b5fd17'),\n",
       "  'bvals_B1000': ('https://digital.lib.washington.edu/researchworks/bitstream/handle/1773/33311/bvals_B1000',\n",
       "   '97de6a492ae304f39e0b418b6ebac64c'),\n",
       "  'bvecs_B1000': ('https://digital.lib.washington.edu/researchworks/bitstream/handle/1773/33311/bvecs_B1000',\n",
       "   'f28a0faa701bdfc66e31bde471a5b992'),\n",
       "  '4D_dwieddycor_B2000.nii.gz': ('https://digital.lib.washington.edu/researchworks/bitstream/handle/1773/33311/4D_dwieddycor_B2000.nii.gz',\n",
       "   'c5e4b96e3afdee99c0e994eff3b2331a'),\n",
       "  'bvals_B2000': ('https://digital.lib.washington.edu/researchworks/bitstream/handle/1773/33311/bvals_B2000',\n",
       "   '9c83b8d5caf9c3def240f320f2d2f56c'),\n",
       "  'bvecs_B2000': ('https://digital.lib.washington.edu/researchworks/bitstream/handle/1773/33311/bvecs_B2000',\n",
       "   '05446bd261d57193d8dbc097e06db5ff'),\n",
       "  '4D_dwieddycor_B3000.nii.gz': ('https://digital.lib.washington.edu/researchworks/bitstream/handle/1773/33311/4D_dwieddycor_B3000.nii.gz',\n",
       "   'f0d70456ce424fda2cecd48e64f3a151'),\n",
       "  'bvals_B3000': ('https://digital.lib.washington.edu/researchworks/bitstream/handle/1773/33311/bvals_B3000',\n",
       "   '336accdb56acbbeff8dac1748d15ceb8'),\n",
       "  'bvecs_B3000': ('https://digital.lib.washington.edu/researchworks/bitstream/handle/1773/33311/bvecs_B3000',\n",
       "   '27089f3baaf881d96f6a9da202e3d69b')},\n",
       " '/home/matthew/.dipy/cenir_multib')"
      ]
     },
     "execution_count": 4,
     "metadata": {},
     "output_type": "execute_result"
    }
   ],
   "source": [
    "fetch_cenir_multib(with_raw=False)"
   ]
  },
  {
   "cell_type": "markdown",
   "metadata": {},
   "source": [
    "# Filter Data"
   ]
  },
  {
   "cell_type": "code",
   "execution_count": 4,
   "metadata": {},
   "outputs": [
    {
     "name": "stdout",
     "output_type": "stream",
     "text": [
      "Creating new folder C:\\Users\\boywi\\.dipy\\cenir_multib\n",
      "Downloading \"4D_dwi_eddycor_B200.nii.gz\" to C:\\Users\\boywi\\.dipy\\cenir_multib\n",
      "Download Progress: [########################################] 100.00%  of 53.31 MBDownloading \"dwi_bvals_B200\" to C:\\Users\\boywi\\.dipy\\cenir_multib\n",
      "Download Progress: [########################################] 100.00%  of 0.00 MBDownloading \"dwi_bvecs_B200\" to C:\\Users\\boywi\\.dipy\\cenir_multib\n",
      "Download Progress: [########################################] 100.00%  of 0.00 MBDownloading \"4D_dwieddycor_B400.nii.gz\" to C:\\Users\\boywi\\.dipy\\cenir_multib\n",
      "Download Progress: [########################################] 100.00%  of 53.20 MBDownloading \"bvals_B400\" to C:\\Users\\boywi\\.dipy\\cenir_multib\n",
      "Download Progress: [########################################] 100.00%  of 0.00 MBDownloading \"bvecs_B400\" to C:\\Users\\boywi\\.dipy\\cenir_multib\n",
      "Download Progress: [########################################] 100.00%  of 0.00 MBDownloading \"4D_dwieddycor_B1000.nii.gz\" to C:\\Users\\boywi\\.dipy\\cenir_multib\n",
      "Download Progress: [########################################] 100.00%  of 534.97 MBDownloading \"bvals_B1000\" to C:\\Users\\boywi\\.dipy\\cenir_multib\n",
      "Download Progress: [########################################] 100.00%  of 0.00 MBDownloading \"bvecs_B1000\" to C:\\Users\\boywi\\.dipy\\cenir_multib\n",
      "Download Progress: [########################################] 100.00%  of 0.01 MBDownloading \"4D_dwieddycor_B2000.nii.gz\" to C:\\Users\\boywi\\.dipy\\cenir_multib\n",
      "Download Progress: [########################################] 100.00%  of 537.06 MBDownloading \"bvals_B2000\" to C:\\Users\\boywi\\.dipy\\cenir_multib\n",
      "Download Progress: [########################################] 100.00%  of 0.00 MBDownloading \"bvecs_B2000\" to C:\\Users\\boywi\\.dipy\\cenir_multib\n",
      "Download Progress: [########################################] 100.00%  of 0.01 MBDownloading \"4D_dwieddycor_B3000.nii.gz\" to C:\\Users\\boywi\\.dipy\\cenir_multib\n",
      "Download Progress: [########################################] 100.00%  of 540.40 MBDownloading \"bvals_B3000\" to C:\\Users\\boywi\\.dipy\\cenir_multib\n",
      "Download Progress: [########################################] 100.00%  of 0.00 MBDownloading \"bvecs_B3000\" to C:\\Users\\boywi\\.dipy\\cenir_multib\n",
      "Download Progress: [########################################] 100.00%  of 0.01 MBFiles successfully downloaded to C:\\Users\\boywi\\.dipy\\cenir_multib\n"
     ]
    }
   ],
   "source": [
    "bvals = [200] #, 400, 1000, 2000]\n",
    "\n",
    "img, gtab = read_cenir_multib(bvals)\n",
    "\n",
    "data = img.get_data()\n",
    "\n",
    "affine = img.affine"
   ]
  },
  {
   "cell_type": "markdown",
   "metadata": {},
   "source": [
    "# Make mask"
   ]
  },
  {
   "cell_type": "code",
   "execution_count": 6,
   "metadata": {},
   "outputs": [
    {
     "ename": "KeyboardInterrupt",
     "evalue": "",
     "output_type": "error",
     "traceback": [
      "\u001b[0;31m---------------------------------------------------------------------------\u001b[0m",
      "\u001b[0;31mKeyboardInterrupt\u001b[0m                         Traceback (most recent call last)",
      "\u001b[0;32m<ipython-input-6-390d523bd418>\u001b[0m in \u001b[0;36m<module>\u001b[0;34m\u001b[0m\n\u001b[1;32m      1\u001b[0m maskdata, mask = median_otsu(data, vol_idx=[0, 1], median_radius=4, numpass=2,\n\u001b[0;32m----> 2\u001b[0;31m                              autocrop=False, dilate=1)\n\u001b[0m",
      "\u001b[0;32m~/miniconda3/lib/python3.6/site-packages/dipy/segment/mask.py\u001b[0m in \u001b[0;36mmedian_otsu\u001b[0;34m(input_volume, vol_idx, median_radius, numpass, autocrop, dilate)\u001b[0m\n\u001b[1;32m    199\u001b[0m     \u001b[0;31m# Make a mask using a multiple pass median filter and histogram\u001b[0m\u001b[0;34m\u001b[0m\u001b[0;34m\u001b[0m\u001b[0m\n\u001b[1;32m    200\u001b[0m     \u001b[0;31m# thresholding.\u001b[0m\u001b[0;34m\u001b[0m\u001b[0;34m\u001b[0m\u001b[0m\n\u001b[0;32m--> 201\u001b[0;31m     \u001b[0mmask\u001b[0m \u001b[0;34m=\u001b[0m \u001b[0mmulti_median\u001b[0m\u001b[0;34m(\u001b[0m\u001b[0mb0vol\u001b[0m\u001b[0;34m,\u001b[0m \u001b[0mmedian_radius\u001b[0m\u001b[0;34m,\u001b[0m \u001b[0mnumpass\u001b[0m\u001b[0;34m)\u001b[0m\u001b[0;34m\u001b[0m\u001b[0m\n\u001b[0m\u001b[1;32m    202\u001b[0m     \u001b[0mthresh\u001b[0m \u001b[0;34m=\u001b[0m \u001b[0motsu\u001b[0m\u001b[0;34m(\u001b[0m\u001b[0mmask\u001b[0m\u001b[0;34m)\u001b[0m\u001b[0;34m\u001b[0m\u001b[0m\n\u001b[1;32m    203\u001b[0m     \u001b[0mmask\u001b[0m \u001b[0;34m=\u001b[0m \u001b[0mmask\u001b[0m \u001b[0;34m>\u001b[0m \u001b[0mthresh\u001b[0m\u001b[0;34m\u001b[0m\u001b[0m\n",
      "\u001b[0;32m~/miniconda3/lib/python3.6/site-packages/dipy/segment/mask.py\u001b[0m in \u001b[0;36mmulti_median\u001b[0;34m(input, median_radius, numpass)\u001b[0m\n\u001b[1;32m     38\u001b[0m     \u001b[0;31m# Multi pass\u001b[0m\u001b[0;34m\u001b[0m\u001b[0;34m\u001b[0m\u001b[0m\n\u001b[1;32m     39\u001b[0m     \u001b[0;32mfor\u001b[0m \u001b[0mi\u001b[0m \u001b[0;32min\u001b[0m \u001b[0mrange\u001b[0m\u001b[0;34m(\u001b[0m\u001b[0;36m0\u001b[0m\u001b[0;34m,\u001b[0m \u001b[0mnumpass\u001b[0m\u001b[0;34m)\u001b[0m\u001b[0;34m:\u001b[0m\u001b[0;34m\u001b[0m\u001b[0m\n\u001b[0;32m---> 40\u001b[0;31m         \u001b[0mmedian_filter\u001b[0m\u001b[0;34m(\u001b[0m\u001b[0minput\u001b[0m\u001b[0;34m,\u001b[0m \u001b[0mmedarr\u001b[0m\u001b[0;34m,\u001b[0m \u001b[0moutput\u001b[0m\u001b[0;34m=\u001b[0m\u001b[0minput\u001b[0m\u001b[0;34m)\u001b[0m\u001b[0;34m\u001b[0m\u001b[0m\n\u001b[0m\u001b[1;32m     41\u001b[0m     \u001b[0;32mreturn\u001b[0m \u001b[0minput\u001b[0m\u001b[0;34m\u001b[0m\u001b[0m\n\u001b[1;32m     42\u001b[0m \u001b[0;34m\u001b[0m\u001b[0m\n",
      "\u001b[0;32m~/miniconda3/lib/python3.6/site-packages/scipy/ndimage/filters.py\u001b[0m in \u001b[0;36mmedian_filter\u001b[0;34m(input, size, footprint, output, mode, cval, origin)\u001b[0m\n\u001b[1;32m   1222\u001b[0m     \"\"\"\n\u001b[1;32m   1223\u001b[0m     return _rank_filter(input, 0, size, footprint, output, mode, cval,\n\u001b[0;32m-> 1224\u001b[0;31m                         origin, 'median')\n\u001b[0m\u001b[1;32m   1225\u001b[0m \u001b[0;34m\u001b[0m\u001b[0m\n\u001b[1;32m   1226\u001b[0m \u001b[0;34m\u001b[0m\u001b[0m\n",
      "\u001b[0;32m~/miniconda3/lib/python3.6/site-packages/scipy/ndimage/filters.py\u001b[0m in \u001b[0;36m_rank_filter\u001b[0;34m(input, rank, size, footprint, output, mode, cval, origin, operation)\u001b[0m\n\u001b[1;32m   1143\u001b[0m         \u001b[0mmode\u001b[0m \u001b[0;34m=\u001b[0m \u001b[0m_ni_support\u001b[0m\u001b[0;34m.\u001b[0m\u001b[0m_extend_mode_to_code\u001b[0m\u001b[0;34m(\u001b[0m\u001b[0mmode\u001b[0m\u001b[0;34m)\u001b[0m\u001b[0;34m\u001b[0m\u001b[0m\n\u001b[1;32m   1144\u001b[0m         _nd_image.rank_filter(input, rank, footprint, output, mode, cval,\n\u001b[0;32m-> 1145\u001b[0;31m                               origins)\n\u001b[0m\u001b[1;32m   1146\u001b[0m         \u001b[0;32mreturn\u001b[0m \u001b[0moutput\u001b[0m\u001b[0;34m\u001b[0m\u001b[0m\n\u001b[1;32m   1147\u001b[0m \u001b[0;34m\u001b[0m\u001b[0m\n",
      "\u001b[0;31mKeyboardInterrupt\u001b[0m: "
     ]
    }
   ],
   "source": [
    "maskdata, mask = median_otsu(data, vol_idx=[0, 1], median_radius=4, numpass=2,\n",
    "                             autocrop=False, dilate=1)"
   ]
  },
  {
   "cell_type": "markdown",
   "metadata": {},
   "source": [
    "# Process only axonal slices"
   ]
  },
  {
   "cell_type": "code",
   "execution_count": null,
   "metadata": {},
   "outputs": [],
   "source": [
    "axial_slice = 40\n",
    "\n",
    "mask_roi = np.zeros(data.shape[:-1], dtype=bool)\n",
    "mask_roi[:, :, axial_slice] = mask[:, :, axial_slice]"
   ]
  },
  {
   "cell_type": "markdown",
   "metadata": {},
   "source": [
    "# Process free water"
   ]
  },
  {
   "cell_type": "code",
   "execution_count": null,
   "metadata": {},
   "outputs": [],
   "source": [
    "fwdtimodel = fwdti.FreeWaterTensorModel(gtab)"
   ]
  },
  {
   "cell_type": "code",
   "execution_count": null,
   "metadata": {},
   "outputs": [],
   "source": []
  }
 ],
 "metadata": {
  "kernelspec": {
   "display_name": "Python 3",
   "language": "python",
   "name": "python3"
  },
  "language_info": {
   "codemirror_mode": {
    "name": "ipython",
    "version": 3
   },
   "file_extension": ".py",
   "mimetype": "text/x-python",
   "name": "python",
   "nbconvert_exporter": "python",
   "pygments_lexer": "ipython3",
   "version": "3.7.4"
  }
 },
 "nbformat": 4,
 "nbformat_minor": 2
}
